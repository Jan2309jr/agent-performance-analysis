{
 "cells": [
  {
   "cell_type": "markdown",
   "id": "07139c4c",
   "metadata": {},
   "source": [
    "# 🧠 Agent Performance Optimization Engine\n",
    "This notebook builds a machine learning model to predict agent performance."
   ]
  },
  {
   "cell_type": "code",
   "execution_count": null,
   "id": "bc360c6c",
   "metadata": {},
   "outputs": [],
   "source": [
    "\n",
    "import pandas as pd\n",
    "import os\n",
    "from sklearn.model_selection import train_test_split\n",
    "from sklearn.preprocessing import LabelEncoder, StandardScaler\n",
    "from sklearn.ensemble import RandomForestClassifier\n",
    "from sklearn.metrics import classification_report\n",
    "import joblib\n"
   ]
  },
  {
   "cell_type": "markdown",
   "id": "a3693e98",
   "metadata": {},
   "source": [
    "### 📥 Load Dataset"
   ]
  },
  {
   "cell_type": "code",
   "execution_count": null,
   "id": "3a890175",
   "metadata": {},
   "outputs": [],
   "source": [
    "\n",
    "df = pd.read_csv(\"../data/Customer_support_data.csv\")\n",
    "df.columns = df.columns.str.strip().str.lower().str.replace(' ', '_')\n"
   ]
  },
  {
   "cell_type": "markdown",
   "id": "04d7ad5f",
   "metadata": {},
   "source": [
    "### 🎯 Create Target Variable"
   ]
  },
  {
   "cell_type": "code",
   "execution_count": null,
   "id": "edcefdc1",
   "metadata": {},
   "outputs": [],
   "source": [
    "\n",
    "df['target'] = ((df['csat_score'] >= 4)).astype(int)\n"
   ]
  },
  {
   "cell_type": "markdown",
   "id": "806e9e97",
   "metadata": {},
   "source": [
    "### ✨ Feature Selection & Preprocessing"
   ]
  },
  {
   "cell_type": "code",
   "execution_count": null,
   "id": "6c1f285b",
   "metadata": {},
   "outputs": [],
   "source": [
    "\n",
    "features = ['category', 'sub-category', 'agent_name', 'tenure_bucket', 'agent_shift', 'csat_score']\n",
    "df_model = df[features + ['target']].dropna()\n",
    "\n",
    "categorical_cols = ['category', 'sub-category', 'agent_name', 'tenure_bucket', 'agent_shift']\n",
    "encoders = {}\n",
    "for col in categorical_cols:\n",
    "    le = LabelEncoder()\n",
    "    df_model[col] = le.fit_transform(df_model[col])\n",
    "    encoders[col] = le\n",
    "\n",
    "X = df_model.drop(['target'], axis=1)\n",
    "y = df_model['target']\n",
    "X_train, X_test, y_train, y_test = train_test_split(X, y, test_size=0.2, random_state=42)\n",
    "\n",
    "scaler = StandardScaler()\n",
    "X_train_scaled = scaler.fit_transform(X_train)\n",
    "X_test_scaled = scaler.transform(X_test)\n"
   ]
  },
  {
   "cell_type": "markdown",
   "id": "bfa263bc",
   "metadata": {},
   "source": [
    "### 🤖 Train the Model"
   ]
  },
  {
   "cell_type": "code",
   "execution_count": null,
   "id": "63a87165",
   "metadata": {},
   "outputs": [],
   "source": [
    "\n",
    "model = RandomForestClassifier(n_estimators=100, random_state=42)\n",
    "model.fit(X_train_scaled, y_train)\n",
    "\n",
    "y_pred = model.predict(X_test_scaled)\n",
    "print(classification_report(y_test, y_pred))\n"
   ]
  },
  {
   "cell_type": "markdown",
   "id": "fc305b07",
   "metadata": {},
   "source": [
    "### 💾 Save the Model and Encoders"
   ]
  },
  {
   "cell_type": "code",
   "execution_count": null,
   "id": "ec5719a9",
   "metadata": {},
   "outputs": [],
   "source": [
    "\n",
    "os.makedirs(\"../app\", exist_ok=True)\n",
    "joblib.dump(model, \"../app/model.pkl\")\n",
    "joblib.dump(encoders, \"../app/encoder.pkl\")\n",
    "joblib.dump(scaler, \"../app/scaler.pkl\")\n"
   ]
  }
 ],
 "metadata": {},
 "nbformat": 4,
 "nbformat_minor": 5
}
